{
 "cells": [
  {
   "cell_type": "code",
   "execution_count": 40,
   "id": "dbcfb26e",
   "metadata": {},
   "outputs": [],
   "source": [
    "import pandas as pd\n",
    "import numpy as np\n",
    "import matplotlib as plt\n",
    "from sklearn.model_selection import train_test_split\n",
    "from sklearn.linear_model import LinearRegression, Ridge, Lasso\n",
    "from sklearn.metrics import mean_squared_error"
   ]
  },
  {
   "cell_type": "code",
   "execution_count": 41,
   "id": "0d4e2612",
   "metadata": {},
   "outputs": [],
   "source": [
    "data = {\n",
    "    \"Experience\":[1,2,3,4,5,6,7,8,9,10],\n",
    "    \"Age\":[22,25,27,30,32,35,38,40,43,45],\n",
    "    \"Education_Level\":[1,2,2,3,3,4,4,4,5,5],\n",
    "    \"Salary\":[30000,35000,40000,45000,50000,55000,60000,65000,70000,75000]\n",
    "}"
   ]
  },
  {
   "cell_type": "code",
   "execution_count": 42,
   "id": "0c01bdda",
   "metadata": {},
   "outputs": [
    {
     "name": "stdout",
     "output_type": "stream",
     "text": [
      "   Experience  Age  Education_Level  Salary\n",
      "0           1   22                1   30000\n",
      "1           2   25                2   35000\n",
      "2           3   27                2   40000\n",
      "3           4   30                3   45000\n",
      "4           5   32                3   50000\n",
      "5           6   35                4   55000\n",
      "6           7   38                4   60000\n",
      "7           8   40                4   65000\n",
      "8           9   43                5   70000\n",
      "9          10   45                5   75000\n"
     ]
    }
   ],
   "source": [
    "df =pd.DataFrame(data)\n",
    "print(df)"
   ]
  },
  {
   "cell_type": "code",
   "execution_count": 43,
   "id": "78e457c8",
   "metadata": {},
   "outputs": [],
   "source": [
    "X = df[[\"Experience\",\"Age\",\"Education_Level\"]]\n",
    "Y = df[\"Salary\"]"
   ]
  },
  {
   "cell_type": "code",
   "execution_count": 44,
   "id": "8c4057ae",
   "metadata": {},
   "outputs": [],
   "source": [
    "X_train, X_test, Y_train, Y_test = train_test_split(X, Y, test_size=0.5, random_state=0)"
   ]
  },
  {
   "cell_type": "code",
   "execution_count": 45,
   "id": "3e638678",
   "metadata": {},
   "outputs": [
    {
     "name": "stdout",
     "output_type": "stream",
     "text": [
      "Training features:\n",
      "    Experience  Age  Education_Level\n",
      "6           7   38                4\n",
      "7           8   40                4\n",
      "3           4   30                3\n",
      "0           1   22                1\n",
      "5           6   35                4\n",
      "Testing features:\n",
      "    Experience  Age  Education_Level\n",
      "2           3   27                2\n",
      "8           9   43                5\n",
      "4           5   32                3\n",
      "9          10   45                5\n",
      "1           2   25                2\n",
      "Training target:\n",
      " 6    60000\n",
      "7    65000\n",
      "3    45000\n",
      "0    30000\n",
      "5    55000\n",
      "Name: Salary, dtype: int64\n",
      "Testing target:\n",
      " 2    40000\n",
      "8    70000\n",
      "4    50000\n",
      "9    75000\n",
      "1    35000\n",
      "Name: Salary, dtype: int64\n"
     ]
    }
   ],
   "source": [
    "print(\"Training features:\\n\", X_train)\n",
    "print(\"Testing features:\\n\", X_test)\n",
    "print(\"Training target:\\n\", Y_train)\n",
    "print(\"Testing target:\\n\", Y_test)\n"
   ]
  },
  {
   "cell_type": "code",
   "execution_count": 46,
   "id": "21d47d8d",
   "metadata": {},
   "outputs": [
    {
     "name": "stdout",
     "output_type": "stream",
     "text": [
      "Predicted salaries: [40000. 70000. 50000. 75000. 35000.]\n",
      "Actual salaries: [40000 70000 50000 75000 35000]\n"
     ]
    }
   ],
   "source": [
    "model = LinearRegression()\n",
    "model.fit(X_train, Y_train)\n",
    "\n",
    "Y_pred = model.predict(X_test)\n",
    "\n",
    "print(\"Predicted salaries:\", Y_pred)\n",
    "print(\"Actual salaries:\", Y_test.values)\n"
   ]
  },
  {
   "cell_type": "code",
   "execution_count": 48,
   "id": "55212457",
   "metadata": {},
   "outputs": [
    {
     "name": "stdout",
     "output_type": "stream",
     "text": [
      "Predicted salaries: [39580.79268293 70121.95121951 49222.56097561 74108.23170732\n",
      " 35594.51219512]\n",
      "Actual salaries: [40000 70000 50000 75000 35000]\n"
     ]
    }
   ],
   "source": [
    "ridge_model = Ridge(alpha = 1.0)\n",
    "ridge_model.fit(X_train,Y_train)\n",
    "\n",
    "ridge_predict =ridge_model.predict(X_test)\n",
    "print(\"Predicted salaries:\", ridge_predict)\n",
    "print(\"Actual salaries:\", Y_test.values)"
   ]
  },
  {
   "cell_type": "code",
   "execution_count": 50,
   "id": "5714ba21",
   "metadata": {},
   "outputs": [
    {
     "name": "stdout",
     "output_type": "stream",
     "text": [
      "Predicted salaries: [40000.11600724 69999.77171118 49999.97565528 74999.66315528\n",
      " 35000.22456315]\n",
      "Actual salaries: [40000 70000 50000 75000 35000]\n"
     ]
    }
   ],
   "source": [
    "lasso_model = Lasso(alpha = 1.0)\n",
    "lasso_model.fit(X_train,Y_train)\n",
    "\n",
    "lasso_predict =lasso_model.predict(X_test)\n",
    "print(\"Predicted salaries:\", lasso_predict)\n",
    "print(\"Actual salaries:\", Y_test.values)"
   ]
  },
  {
   "cell_type": "code",
   "execution_count": 51,
   "id": "3776ec6d",
   "metadata": {},
   "outputs": [
    {
     "name": "stdout",
     "output_type": "stream",
     "text": [
      "Linear Regression MSE  1.0587911840678754e-22\n",
      "Ridge Regression MSE  388742.7498512811\n",
      "Lasso Regression MSE  0.04601182142147311\n"
     ]
    }
   ],
   "source": [
    "mse_linear = mean_squared_error(Y_test, Y_pred)\n",
    "mse_ridge = mean_squared_error(Y_test, ridge_predict)\n",
    "mse_lasso = mean_squared_error(Y_test, lasso_predict)\n",
    "\n",
    "print(\"Linear Regression MSE \",mse_linear)\n",
    "print(\"Ridge Regression MSE \",mse_ridge)\n",
    "print(\"Lasso Regression MSE \",mse_lasso)"
   ]
  },
  {
   "cell_type": "code",
   "execution_count": 52,
   "id": "5cc485ca",
   "metadata": {},
   "outputs": [
    {
     "name": "stdout",
     "output_type": "stream",
     "text": [
      "Linear Coefficients: [ 5.00000000e+03 -1.84914642e-12  3.11106042e-13]\n",
      "Ridge Coefficients: [ 754.57317073 1615.85365854   53.35365854]\n",
      "Lasso Coefficients: [4.99973792e+03 7.67598411e-02 0.00000000e+00]\n"
     ]
    }
   ],
   "source": [
    "print(\"Linear Coefficients:\", model.coef_)\n",
    "print(\"Ridge Coefficients:\", ridge_model.coef_)\n",
    "print(\"Lasso Coefficients:\", lasso_model.coef_)"
   ]
  },
  {
   "cell_type": "code",
   "execution_count": 53,
   "id": "5bfd4081",
   "metadata": {},
   "outputs": [],
   "source": [
    "models = ['model','ridge_model',]\n"
   ]
  },
  {
   "cell_type": "code",
   "execution_count": null,
   "id": "4d6e7ec9",
   "metadata": {},
   "outputs": [],
   "source": []
  }
 ],
 "metadata": {
  "kernelspec": {
   "display_name": "Python 3",
   "language": "python",
   "name": "python3"
  },
  "language_info": {
   "codemirror_mode": {
    "name": "ipython",
    "version": 3
   },
   "file_extension": ".py",
   "mimetype": "text/x-python",
   "name": "python",
   "nbconvert_exporter": "python",
   "pygments_lexer": "ipython3",
   "version": "3.12.4"
  }
 },
 "nbformat": 4,
 "nbformat_minor": 5
}
