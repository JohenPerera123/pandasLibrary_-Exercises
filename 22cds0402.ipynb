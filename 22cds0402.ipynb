{
 "cells": [
  {
   "cell_type": "code",
   "execution_count": 2,
   "id": "ea4f9027",
   "metadata": {},
   "outputs": [],
   "source": [
    "import pandas as pd\n"
   ]
  },
  {
   "cell_type": "code",
   "execution_count": 3,
   "id": "420be8bd",
   "metadata": {},
   "outputs": [],
   "source": [
    "Data = {\n",
    "    'Employee_ID':[101,102,103,104,105],\n",
    "    'Name':[\"John\", \"Sara\",\"Mike\",\"Anna\",\"Tom\"],\n",
    "    'Department':[\"HR\",\"IT\",\"Finance\",\"IT\",\"HR\"],\n",
    "    \"Salary\" :[50000,60000,55000,65000,58000],\n",
    "    'Experiance_Years':[2,5,3,7,4]\n",
    "}"
   ]
  },
  {
   "cell_type": "code",
   "execution_count": 4,
   "id": "4de038b9",
   "metadata": {},
   "outputs": [],
   "source": [
    "df = pd.DataFrame(Data)"
   ]
  },
  {
   "cell_type": "code",
   "execution_count": 5,
   "id": "2b33e2c8",
   "metadata": {},
   "outputs": [],
   "source": [
    "df.to_csv('Employees.csv', index=False)"
   ]
  },
  {
   "cell_type": "code",
   "execution_count": 9,
   "id": "7569678e",
   "metadata": {},
   "outputs": [],
   "source": [
    "df.to_json(\"Employees.json\", orient=\"records\", lines=\"True\")"
   ]
  },
  {
   "cell_type": "code",
   "execution_count": 7,
   "id": "43fe491e",
   "metadata": {},
   "outputs": [],
   "source": [
    "df.to_excel('Employees.xlsx', index=False)\n"
   ]
  },
  {
   "cell_type": "code",
   "execution_count": 8,
   "id": "bf7ed4fc",
   "metadata": {},
   "outputs": [],
   "source": [
    "df[\"Age\"] = [27,25,26,28,23]"
   ]
  },
  {
   "cell_type": "code",
   "execution_count": 10,
   "id": "082b2dcf",
   "metadata": {},
   "outputs": [],
   "source": [
    "df.to_csv('Employees.csv', index=False)\n",
    "df.to_json(\"Employees.json\", orient=\"records\", lines=\"True\")\n",
    "df.to_excel('Employees.xlsx', index=False)\n"
   ]
  },
  {
   "cell_type": "code",
   "execution_count": 11,
   "id": "7273449a",
   "metadata": {},
   "outputs": [],
   "source": [
    "new_row={\n",
    "    'Employee_ID':106,\n",
    "    'Name':\"Perera\",\n",
    "    'Department':\"Finace\",\n",
    "    \"Salary\" :60000,\n",
    "    'Experiance_Years':6,\n",
    "    'Age':30\n",
    "}\n"
   ]
  },
  {
   "cell_type": "code",
   "execution_count": 18,
   "id": "617cde1d",
   "metadata": {},
   "outputs": [],
   "source": [
    "df = pd.concat([df, pd.DataFrame([new_row])], ignore_index=True)\n",
    "\n"
   ]
  },
  {
   "cell_type": "code",
   "execution_count": 19,
   "id": "6c07a189",
   "metadata": {},
   "outputs": [
    {
     "name": "stdout",
     "output_type": "stream",
     "text": [
      "   Employee_ID    Name Department  Salary  Experiance_Years  Age\n",
      "0          101    John         HR   50000                 2   27\n",
      "1          102    Sara         IT   60000                 5   25\n",
      "2          103    Mike    Finance   55000                 3   26\n",
      "3          104    Anna         IT   65000                 7   28\n",
      "4          105     Tom         HR   58000                 4   23\n",
      "5          106  Perera     Finace   60000                 6   30\n"
     ]
    }
   ],
   "source": [
    "print(df)"
   ]
  },
  {
   "cell_type": "code",
   "execution_count": 20,
   "id": "f9f4aa4e",
   "metadata": {},
   "outputs": [],
   "source": [
    "df =df.drop(index=2)"
   ]
  },
  {
   "cell_type": "code",
   "execution_count": 21,
   "id": "f4216f53",
   "metadata": {},
   "outputs": [
    {
     "name": "stdout",
     "output_type": "stream",
     "text": [
      "   Employee_ID    Name Department  Salary  Experiance_Years  Age\n",
      "0          101    John         HR   50000                 2   27\n",
      "1          102    Sara         IT   60000                 5   25\n",
      "3          104    Anna         IT   65000                 7   28\n",
      "4          105     Tom         HR   58000                 4   23\n",
      "5          106  Perera     Finace   60000                 6   30\n"
     ]
    }
   ],
   "source": [
    "print(df)"
   ]
  },
  {
   "cell_type": "code",
   "execution_count": 23,
   "id": "ebffceb2",
   "metadata": {},
   "outputs": [],
   "source": [
    "df =df.drop([\"Experiance_Years\", \"Age\"], axis=1)"
   ]
  },
  {
   "cell_type": "code",
   "execution_count": 24,
   "id": "553b10b2",
   "metadata": {},
   "outputs": [
    {
     "name": "stdout",
     "output_type": "stream",
     "text": [
      "   Employee_ID    Name Department  Salary\n",
      "0          101    John         HR   50000\n",
      "1          102    Sara         IT   60000\n",
      "3          104    Anna         IT   65000\n",
      "4          105     Tom         HR   58000\n",
      "5          106  Perera     Finace   60000\n"
     ]
    }
   ],
   "source": [
    "print(df)"
   ]
  },
  {
   "cell_type": "code",
   "execution_count": null,
   "id": "6f81029f",
   "metadata": {},
   "outputs": [],
   "source": []
  }
 ],
 "metadata": {
  "kernelspec": {
   "display_name": "Python 3",
   "language": "python",
   "name": "python3"
  },
  "language_info": {
   "codemirror_mode": {
    "name": "ipython",
    "version": 3
   },
   "file_extension": ".py",
   "mimetype": "text/x-python",
   "name": "python",
   "nbconvert_exporter": "python",
   "pygments_lexer": "ipython3",
   "version": "3.12.4"
  }
 },
 "nbformat": 4,
 "nbformat_minor": 5
}
