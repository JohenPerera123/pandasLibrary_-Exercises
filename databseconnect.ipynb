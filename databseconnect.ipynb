{
 "cells": [
  {
   "cell_type": "code",
   "execution_count": 1,
   "id": "2482e549",
   "metadata": {},
   "outputs": [],
   "source": [
    "import sqlite3"
   ]
  },
  {
   "cell_type": "code",
   "execution_count": 2,
   "id": "0fab84d2",
   "metadata": {},
   "outputs": [],
   "source": [
    "conn = sqlite3.connect('complex-joins.sql')"
   ]
  },
  {
   "cell_type": "code",
   "execution_count": 3,
   "id": "102abe4c",
   "metadata": {},
   "outputs": [
    {
     "name": "stdout",
     "output_type": "stream",
     "text": [
      "<sqlite3.Connection object at 0x00000240025746D0>\n"
     ]
    }
   ],
   "source": [
    "print(conn)"
   ]
  },
  {
   "cell_type": "code",
   "execution_count": 4,
   "id": "86bad800",
   "metadata": {},
   "outputs": [],
   "source": [
    "conn = sqlite3.connect('student_performance.db')\n",
    "cursor = conn.cursor()"
   ]
  },
  {
   "cell_type": "code",
   "execution_count": 6,
   "id": "7f94b6f7",
   "metadata": {},
   "outputs": [
    {
     "data": {
      "text/plain": [
       "<sqlite3.Cursor at 0x240027ab840>"
      ]
     },
     "execution_count": 6,
     "metadata": {},
     "output_type": "execute_result"
    }
   ],
   "source": [
    "cursor.execute(\"\"\"\n",
    "        CREATE TABLE IF NOT EXISTS students(\n",
    "               Hours_Studiesd REAL,\n",
    "               Attendece INTEGER,\n",
    "               Assignment_Score INTEGER,\n",
    "               Sleep_Hours REAL,\n",
    "               Final_Grad TEXT\n",
    "               )\n",
    "\"\"\")"
   ]
  },
  {
   "cell_type": "code",
   "execution_count": 9,
   "id": "592159b0",
   "metadata": {},
   "outputs": [
    {
     "name": "stdout",
     "output_type": "stream",
     "text": [
      "📋 Column Names: ['<!doctype html>']\n",
      "\n",
      "🔍 Data Types:\n",
      " <!doctype html>    object\n",
      "dtype: object\n"
     ]
    }
   ],
   "source": [
    "import pandas as pd\n",
    "import requests\n",
    "from io import StringIO\n",
    "\n",
    "url = 'https://example.com/data.csv'  # Replace with your actual URL\n",
    "response = requests.get(url)\n",
    "\n",
    "# Skip problematic lines while reading\n",
    "df = pd.read_csv(StringIO(response.text), on_bad_lines='skip')\n",
    "\n",
    "# Metadata check: print column names and data types\n",
    "print(\"📋 Column Names:\", df.columns.tolist())\n",
    "print(\"\\n🔍 Data Types:\\n\", df.dtypes)\n"
   ]
  },
  {
   "cell_type": "code",
   "execution_count": 10,
   "id": "f48d41e6",
   "metadata": {},
   "outputs": [
    {
     "name": "stdout",
     "output_type": "stream",
     "text": [
      "Column Names:\n",
      "['<!doctype html>']\n",
      "\n",
      "Data Types:\n",
      "<!doctype html>    object\n",
      "dtype: object\n"
     ]
    }
   ],
   "source": [
    "print(\"Column Names:\")\n",
    "print(df.columns.tolist())\n",
    "\n",
    "print(\"\\nData Types:\")\n",
    "print(df.dtypes)"
   ]
  },
  {
   "cell_type": "code",
   "execution_count": null,
   "id": "8f30a09b",
   "metadata": {},
   "outputs": [],
   "source": []
  }
 ],
 "metadata": {
  "kernelspec": {
   "display_name": "Python 3",
   "language": "python",
   "name": "python3"
  },
  "language_info": {
   "codemirror_mode": {
    "name": "ipython",
    "version": 3
   },
   "file_extension": ".py",
   "mimetype": "text/x-python",
   "name": "python",
   "nbconvert_exporter": "python",
   "pygments_lexer": "ipython3",
   "version": "3.12.4"
  }
 },
 "nbformat": 4,
 "nbformat_minor": 5
}
