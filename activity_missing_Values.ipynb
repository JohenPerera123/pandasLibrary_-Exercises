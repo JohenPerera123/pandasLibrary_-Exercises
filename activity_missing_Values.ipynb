{
 "cells": [
  {
   "cell_type": "code",
   "execution_count": 40,
   "id": "f519516f",
   "metadata": {},
   "outputs": [],
   "source": [
    "import pandas as pd\n",
    "import numpy as np\n"
   ]
  },
  {
   "cell_type": "code",
   "execution_count": 41,
   "id": "5910ba01",
   "metadata": {},
   "outputs": [],
   "source": [
    "data ={\n",
    "    \"Student_id\":[1,2,3,4,5,5,6,7],\n",
    "    \"Name\": [\"Alice\",\"Bob\",\"Carlie\",\"Davide\",\"Eva\",\"Eva\",\"Frank\",None],\n",
    "    \"Attendece\": [85,None,78,92,88,88,95,80],\n",
    "    \"Assignment_Score\": [75,80,np.nan,90,85,85,95,200],\n",
    "    \"Final_Grade\":[\"B\",\"A\",\"C\",\"A\",None,None,\"A\",\"B\"]\n",
    "    }"
   ]
  },
  {
   "cell_type": "code",
   "execution_count": 42,
   "id": "566c152b",
   "metadata": {},
   "outputs": [
    {
     "name": "stdout",
     "output_type": "stream",
     "text": [
      "   Student_id    Name  Attendece  Assignment_Score Final_Grade\n",
      "0           1   Alice       85.0              75.0           B\n",
      "1           2     Bob        NaN              80.0           A\n",
      "2           3  Carlie       78.0               NaN           C\n",
      "3           4  Davide       92.0              90.0           A\n",
      "4           5     Eva       88.0              85.0        None\n",
      "5           5     Eva       88.0              85.0        None\n",
      "6           6   Frank       95.0              95.0           A\n",
      "7           7    None       80.0             200.0           B\n"
     ]
    }
   ],
   "source": [
    "df = pd.DataFrame(data)\n",
    "print(df)"
   ]
  },
  {
   "cell_type": "markdown",
   "id": "003ffccc",
   "metadata": {},
   "source": [
    "##### Check for missing values"
   ]
  },
  {
   "cell_type": "code",
   "execution_count": 43,
   "id": "abb72371",
   "metadata": {},
   "outputs": [
    {
     "name": "stdout",
     "output_type": "stream",
     "text": [
      "Student_id          0\n",
      "Name                1\n",
      "Attendece           1\n",
      "Assignment_Score    1\n",
      "Final_Grade         2\n",
      "dtype: int64\n"
     ]
    }
   ],
   "source": [
    "print(df.isnull().sum())"
   ]
  },
  {
   "cell_type": "markdown",
   "id": "94eaa355",
   "metadata": {},
   "source": [
    "##### Display only rows that have missing valuea"
   ]
  },
  {
   "cell_type": "code",
   "execution_count": 44,
   "id": "d9eea127",
   "metadata": {},
   "outputs": [
    {
     "name": "stdout",
     "output_type": "stream",
     "text": [
      "   Student_id    Name  Attendece  Assignment_Score Final_Grade\n",
      "1           2     Bob        NaN              80.0           A\n",
      "2           3  Carlie       78.0               NaN           C\n",
      "4           5     Eva       88.0              85.0        None\n",
      "5           5     Eva       88.0              85.0        None\n",
      "7           7    None       80.0             200.0           B\n"
     ]
    }
   ],
   "source": [
    "missing_rows = df[df.isnull().any(axis=1)] \n",
    "print(missing_rows)"
   ]
  },
  {
   "cell_type": "markdown",
   "id": "f3ece173",
   "metadata": {},
   "source": [
    "### Handeling Missing Values"
   ]
  },
  {
   "cell_type": "markdown",
   "id": "1caa338d",
   "metadata": {},
   "source": [
    "##### Fill missing Attendence with mean value"
   ]
  },
  {
   "cell_type": "code",
   "execution_count": 45,
   "id": "d8c24066",
   "metadata": {},
   "outputs": [],
   "source": [
    "df['Attendece'] = df['Attendece'].fillna(df['Attendece'].mean())\n"
   ]
  },
  {
   "cell_type": "code",
   "execution_count": 46,
   "id": "6012748e",
   "metadata": {},
   "outputs": [
    {
     "name": "stdout",
     "output_type": "stream",
     "text": [
      "   Student_id    Name  Attendece  Assignment_Score Final_Grade\n",
      "0           1   Alice  85.000000              75.0           B\n",
      "1           2     Bob  86.571429              80.0           A\n",
      "2           3  Carlie  78.000000               NaN           C\n",
      "3           4  Davide  92.000000              90.0           A\n",
      "4           5     Eva  88.000000              85.0        None\n",
      "5           5     Eva  88.000000              85.0        None\n",
      "6           6   Frank  95.000000              95.0           A\n",
      "7           7    None  80.000000             200.0           B\n"
     ]
    }
   ],
   "source": [
    "print(df)"
   ]
  },
  {
   "cell_type": "markdown",
   "id": "1b317814",
   "metadata": {},
   "source": [
    "##### Replace missing values in Final_Grade with Unkown"
   ]
  },
  {
   "cell_type": "code",
   "execution_count": 47,
   "id": "6e9b9b38",
   "metadata": {},
   "outputs": [],
   "source": [
    "df['Final_Grade'] = df['Final_Grade'].fillna(\"Unkown\")"
   ]
  },
  {
   "cell_type": "code",
   "execution_count": 48,
   "id": "380c38a4",
   "metadata": {},
   "outputs": [
    {
     "name": "stdout",
     "output_type": "stream",
     "text": [
      "   Student_id    Name  Attendece  Assignment_Score Final_Grade\n",
      "0           1   Alice  85.000000              75.0           B\n",
      "1           2     Bob  86.571429              80.0           A\n",
      "2           3  Carlie  78.000000               NaN           C\n",
      "3           4  Davide  92.000000              90.0           A\n",
      "4           5     Eva  88.000000              85.0      Unkown\n",
      "5           5     Eva  88.000000              85.0      Unkown\n",
      "6           6   Frank  95.000000              95.0           A\n",
      "7           7    None  80.000000             200.0           B\n"
     ]
    }
   ],
   "source": [
    "print(df)"
   ]
  },
  {
   "cell_type": "markdown",
   "id": "3a4ba9e3",
   "metadata": {},
   "source": [
    "##### Drop rows where Name is missing\n"
   ]
  },
  {
   "cell_type": "code",
   "execution_count": 49,
   "id": "5129c0fe",
   "metadata": {},
   "outputs": [],
   "source": [
    "df.dropna(subset=[\"Name\"], inplace=True)"
   ]
  },
  {
   "cell_type": "code",
   "execution_count": 55,
   "id": "5cf131e6",
   "metadata": {},
   "outputs": [
    {
     "name": "stdout",
     "output_type": "stream",
     "text": [
      "   Student_id    Name  Attendece  Assignment_Score Final_Grade\n",
      "0           1   Alice  85.000000              75.0           B\n",
      "1           2     Bob  86.571429              80.0           A\n",
      "2           3  Carlie  78.000000               NaN           C\n",
      "3           4  Davide  92.000000              90.0           A\n",
      "4           5     Eva  88.000000              85.0      Unkown\n",
      "6           6   Frank  95.000000              95.0           A\n"
     ]
    }
   ],
   "source": [
    "print(df)"
   ]
  },
  {
   "cell_type": "markdown",
   "id": "bb9ff7f1",
   "metadata": {},
   "source": [
    "### Handling Duplicates "
   ]
  },
  {
   "cell_type": "markdown",
   "id": "575f3525",
   "metadata": {},
   "source": [
    "##### Check duplicate rows"
   ]
  },
  {
   "cell_type": "code",
   "execution_count": 50,
   "id": "8c472380",
   "metadata": {},
   "outputs": [
    {
     "name": "stdout",
     "output_type": "stream",
     "text": [
      "Duplicate rows    Student_id Name  Attendece  Assignment_Score Final_Grade\n",
      "5           5  Eva       88.0              85.0      Unkown\n"
     ]
    }
   ],
   "source": [
    "duplicates= df.duplicated()\n",
    "print(\"Duplicate rows\",df[duplicates])"
   ]
  },
  {
   "cell_type": "markdown",
   "id": "d02f9b0f",
   "metadata": {},
   "source": [
    "##### remove duplicate rows"
   ]
  },
  {
   "cell_type": "code",
   "execution_count": 51,
   "id": "25f2f937",
   "metadata": {},
   "outputs": [],
   "source": [
    "df.drop_duplicates(inplace=True)"
   ]
  },
  {
   "cell_type": "code",
   "execution_count": 52,
   "id": "75d7a758",
   "metadata": {},
   "outputs": [
    {
     "name": "stdout",
     "output_type": "stream",
     "text": [
      "   Student_id    Name  Attendece  Assignment_Score Final_Grade\n",
      "0           1   Alice  85.000000              75.0           B\n",
      "1           2     Bob  86.571429              80.0           A\n",
      "2           3  Carlie  78.000000               NaN           C\n",
      "3           4  Davide  92.000000              90.0           A\n",
      "4           5     Eva  88.000000              85.0      Unkown\n",
      "6           6   Frank  95.000000              95.0           A\n"
     ]
    }
   ],
   "source": [
    "print(df)"
   ]
  },
  {
   "cell_type": "markdown",
   "id": "05595047",
   "metadata": {},
   "source": [
    "### Detecting Outliers"
   ]
  },
  {
   "cell_type": "markdown",
   "id": "f1f9e26e",
   "metadata": {},
   "source": [
    "##### Discrbe the data set statistic"
   ]
  },
  {
   "cell_type": "code",
   "execution_count": 53,
   "id": "b477893f",
   "metadata": {},
   "outputs": [
    {
     "name": "stdout",
     "output_type": "stream",
     "text": [
      "       Student_id  Attendece  Assignment_Score\n",
      "count    6.000000   6.000000          5.000000\n",
      "mean     3.500000  87.428571         85.000000\n",
      "std      1.870829   5.900536          7.905694\n",
      "min      1.000000  78.000000         75.000000\n",
      "25%      2.250000  85.392857         80.000000\n",
      "50%      3.500000  87.285714         85.000000\n",
      "75%      4.750000  91.000000         90.000000\n",
      "max      6.000000  95.000000         95.000000\n"
     ]
    }
   ],
   "source": [
    "print(df.describe())"
   ]
  },
  {
   "cell_type": "markdown",
   "id": "77fd934b",
   "metadata": {},
   "source": [
    "##### Identifying the outliers using IQR"
   ]
  },
  {
   "cell_type": "code",
   "execution_count": 56,
   "id": "826b4e26",
   "metadata": {},
   "outputs": [
    {
     "name": "stdout",
     "output_type": "stream",
     "text": [
      "   Student_id  Attendece  Assignment_Score\n",
      "0           1  85.000000              75.0\n",
      "1           2  86.571429              80.0\n",
      "2           3  78.000000               NaN\n",
      "3           4  92.000000              90.0\n",
      "4           5  88.000000              85.0\n",
      "6           6  95.000000              95.0\n",
      "Empty DataFrame\n",
      "Columns: [Student_id, Name, Attendece, Assignment_Score, Final_Grade]\n",
      "Index: []\n"
     ]
    }
   ],
   "source": [
    "numcols = df.select_dtypes(include='number')\n",
    "print(numcols)\n",
    "q1 = numcols.quantile(0.25)\n",
    "q3 = numcols.quantile(0.75)\n",
    "IQR = q3 - q1\n",
    "\n",
    "outliars = ((numcols< (q1 - 1.5*IQR)) | (numcols> (q3+ 1.5*IQR))) \n",
    "print(df[outliars.any(axis=1)])"
   ]
  },
  {
   "cell_type": "code",
   "execution_count": 57,
   "id": "57e8d142",
   "metadata": {},
   "outputs": [],
   "source": [
    "df_no_outliars = df[~outliars.any(axis=1)]"
   ]
  },
  {
   "cell_type": "code",
   "execution_count": 58,
   "id": "c39b5b9f",
   "metadata": {},
   "outputs": [
    {
     "data": {
      "text/html": [
       "<div>\n",
       "<style scoped>\n",
       "    .dataframe tbody tr th:only-of-type {\n",
       "        vertical-align: middle;\n",
       "    }\n",
       "\n",
       "    .dataframe tbody tr th {\n",
       "        vertical-align: top;\n",
       "    }\n",
       "\n",
       "    .dataframe thead th {\n",
       "        text-align: right;\n",
       "    }\n",
       "</style>\n",
       "<table border=\"1\" class=\"dataframe\">\n",
       "  <thead>\n",
       "    <tr style=\"text-align: right;\">\n",
       "      <th></th>\n",
       "      <th>Student_id</th>\n",
       "      <th>Name</th>\n",
       "      <th>Attendece</th>\n",
       "      <th>Assignment_Score</th>\n",
       "      <th>Final_Grade</th>\n",
       "    </tr>\n",
       "  </thead>\n",
       "  <tbody>\n",
       "    <tr>\n",
       "      <th>0</th>\n",
       "      <td>1</td>\n",
       "      <td>Alice</td>\n",
       "      <td>85.000000</td>\n",
       "      <td>75.0</td>\n",
       "      <td>B</td>\n",
       "    </tr>\n",
       "    <tr>\n",
       "      <th>1</th>\n",
       "      <td>2</td>\n",
       "      <td>Bob</td>\n",
       "      <td>86.571429</td>\n",
       "      <td>80.0</td>\n",
       "      <td>A</td>\n",
       "    </tr>\n",
       "    <tr>\n",
       "      <th>2</th>\n",
       "      <td>3</td>\n",
       "      <td>Carlie</td>\n",
       "      <td>78.000000</td>\n",
       "      <td>NaN</td>\n",
       "      <td>C</td>\n",
       "    </tr>\n",
       "    <tr>\n",
       "      <th>3</th>\n",
       "      <td>4</td>\n",
       "      <td>Davide</td>\n",
       "      <td>92.000000</td>\n",
       "      <td>90.0</td>\n",
       "      <td>A</td>\n",
       "    </tr>\n",
       "    <tr>\n",
       "      <th>4</th>\n",
       "      <td>5</td>\n",
       "      <td>Eva</td>\n",
       "      <td>88.000000</td>\n",
       "      <td>85.0</td>\n",
       "      <td>Unkown</td>\n",
       "    </tr>\n",
       "    <tr>\n",
       "      <th>6</th>\n",
       "      <td>6</td>\n",
       "      <td>Frank</td>\n",
       "      <td>95.000000</td>\n",
       "      <td>95.0</td>\n",
       "      <td>A</td>\n",
       "    </tr>\n",
       "  </tbody>\n",
       "</table>\n",
       "</div>"
      ],
      "text/plain": [
       "   Student_id    Name  Attendece  Assignment_Score Final_Grade\n",
       "0           1   Alice  85.000000              75.0           B\n",
       "1           2     Bob  86.571429              80.0           A\n",
       "2           3  Carlie  78.000000               NaN           C\n",
       "3           4  Davide  92.000000              90.0           A\n",
       "4           5     Eva  88.000000              85.0      Unkown\n",
       "6           6   Frank  95.000000              95.0           A"
      ]
     },
     "execution_count": 58,
     "metadata": {},
     "output_type": "execute_result"
    }
   ],
   "source": [
    "df"
   ]
  },
  {
   "cell_type": "markdown",
   "id": "6618f9c7",
   "metadata": {},
   "source": [
    "### Visualizing"
   ]
  },
  {
   "cell_type": "code",
   "execution_count": 60,
   "id": "02fafe72",
   "metadata": {},
   "outputs": [],
   "source": [
    "import matplotlib.pyplot as plt"
   ]
  },
  {
   "cell_type": "code",
   "execution_count": 61,
   "id": "ed16f375",
   "metadata": {},
   "outputs": [
    {
     "data": {
      "text/plain": [
       "<function matplotlib.pyplot.show(close=None, block=None)>"
      ]
     },
     "execution_count": 61,
     "metadata": {},
     "output_type": "execute_result"
    },
    {
     "data": {
      "image/png": "[encoded data removed]",
      "text/plain": [
       "<Figure size 1000x600 with 1 Axes>"
      ]
     },
     "metadata": {},
     "output_type": "display_data"
    }
   ],
   "source": [
    "df.boxplot(figsize=(10,6))\n",
    "plt.title(\"Boxplot of data set\")\n",
    "plt.show"
   ]
  },
  {
   "cell_type": "markdown",
   "id": "ad380cc4",
   "metadata": {},
   "source": [
    "#### What are missing values and how can we handle them\n",
    "##### Missing values are missing or null entries of a data set\n",
    "- Fill with mea, meadian, mode\n",
    "- Fill witha Placholder like \" unkwon\"\n",
    "- drop rows that have too many missing values"
   ]
  },
  {
   "cell_type": "markdown",
   "id": "7bf001e5",
   "metadata": {},
   "source": [
    "#### Why should we remove duplicates\n",
    "When removing duplitace it prevents \n",
    "- Misleading Analysis Duplicate records can inflate counts, distort averages, and misrepresent trends—leading to conclusions that don’t reflect reality.\n",
    "- Model Overfitting In machine learning, repeated data points can cause models to memorize rather than generalize, reducing their accuracy on new data.\n",
    "- Unnecessary Processing Time More data means more computation. Duplicates slow down queries, increase memory usage, and complicate workflows.\n",
    "- Data Integrity Issues Especially in databases, duplicates can violate uniqueness constraints, cause errors in joins, and lead to inconsistent reporting.\n",
    "- Redundant Storage Costs Storing the same data multiple times wastes disk space and can drive up costs in cloud environments."
   ]
  },
  {
   "cell_type": "markdown",
   "id": "5e0ac6a0",
   "metadata": {},
   "source": [
    "#### Why is outlier deletion is important \n",
    "- Outliers can skew result, mislead analysis and efect machine learning accuracy"
   ]
  },
  {
   "cell_type": "code",
   "execution_count": 62,
   "id": "3f4342be",
   "metadata": {},
   "outputs": [
    {
     "data": {
      "text/html": [
       "<div>\n",
       "<style scoped>\n",
       "    .dataframe tbody tr th:only-of-type {\n",
       "        vertical-align: middle;\n",
       "    }\n",
       "\n",
       "    .dataframe tbody tr th {\n",
       "        vertical-align: top;\n",
       "    }\n",
       "\n",
       "    .dataframe thead th {\n",
       "        text-align: right;\n",
       "    }\n",
       "</style>\n",
       "<table border=\"1\" class=\"dataframe\">\n",
       "  <thead>\n",
       "    <tr style=\"text-align: right;\">\n",
       "      <th></th>\n",
       "      <th>Student_id</th>\n",
       "      <th>Name</th>\n",
       "      <th>Attendece</th>\n",
       "      <th>Assignment_Score</th>\n",
       "      <th>Final_Grade</th>\n",
       "    </tr>\n",
       "  </thead>\n",
       "  <tbody>\n",
       "    <tr>\n",
       "      <th>0</th>\n",
       "      <td>1</td>\n",
       "      <td>Alice</td>\n",
       "      <td>85.000000</td>\n",
       "      <td>75.0</td>\n",
       "      <td>B</td>\n",
       "    </tr>\n",
       "    <tr>\n",
       "      <th>1</th>\n",
       "      <td>2</td>\n",
       "      <td>Bob</td>\n",
       "      <td>86.571429</td>\n",
       "      <td>80.0</td>\n",
       "      <td>A</td>\n",
       "    </tr>\n",
       "    <tr>\n",
       "      <th>2</th>\n",
       "      <td>3</td>\n",
       "      <td>Carlie</td>\n",
       "      <td>78.000000</td>\n",
       "      <td>NaN</td>\n",
       "      <td>C</td>\n",
       "    </tr>\n",
       "    <tr>\n",
       "      <th>3</th>\n",
       "      <td>4</td>\n",
       "      <td>Davide</td>\n",
       "      <td>92.000000</td>\n",
       "      <td>90.0</td>\n",
       "      <td>A</td>\n",
       "    </tr>\n",
       "    <tr>\n",
       "      <th>4</th>\n",
       "      <td>5</td>\n",
       "      <td>Eva</td>\n",
       "      <td>88.000000</td>\n",
       "      <td>85.0</td>\n",
       "      <td>Unkown</td>\n",
       "    </tr>\n",
       "    <tr>\n",
       "      <th>6</th>\n",
       "      <td>6</td>\n",
       "      <td>Frank</td>\n",
       "      <td>95.000000</td>\n",
       "      <td>95.0</td>\n",
       "      <td>A</td>\n",
       "    </tr>\n",
       "  </tbody>\n",
       "</table>\n",
       "</div>"
      ],
      "text/plain": [
       "   Student_id    Name  Attendece  Assignment_Score Final_Grade\n",
       "0           1   Alice  85.000000              75.0           B\n",
       "1           2     Bob  86.571429              80.0           A\n",
       "2           3  Carlie  78.000000               NaN           C\n",
       "3           4  Davide  92.000000              90.0           A\n",
       "4           5     Eva  88.000000              85.0      Unkown\n",
       "6           6   Frank  95.000000              95.0           A"
      ]
     },
     "execution_count": 62,
     "metadata": {},
     "output_type": "execute_result"
    }
   ],
   "source": [
    "df"
   ]
  },
  {
   "cell_type": "code",
   "execution_count": null,
   "id": "64ce8a43",
   "metadata": {},
   "outputs": [],
   "source": []
  }
 ],
 "metadata": {
  "kernelspec": {
   "display_name": "Python 3",
   "language": "python",
   "name": "python3"
  },
  "language_info": {
   "codemirror_mode": {
    "name": "ipython",
    "version": 3
   },
   "file_extension": ".py",
   "mimetype": "text/x-python",
   "name": "python",
   "nbconvert_exporter": "python",
   "pygments_lexer": "ipython3",
   "version": "3.12.4"
  }
 },
 "nbformat": 4,
 "nbformat_minor": 5
}
