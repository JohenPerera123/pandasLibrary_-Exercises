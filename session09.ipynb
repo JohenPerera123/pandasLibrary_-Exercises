{
 "cells": [
  {
   "cell_type": "code",
   "execution_count": 25,
   "id": "07221c3e",
   "metadata": {},
   "outputs": [],
   "source": [
    "import pandas as pd   \n",
    "import numpy as np \n",
    "import matplotlib.pyplot as plt\n",
    "from sklearn.tree import DecisionTreeRegressor\n",
    "from sklearn.model_selection import train_test_split\n",
    "from sklearn.metrics import mean_squared_error \n"
   ]
  },
  {
   "cell_type": "code",
   "execution_count": 26,
   "id": "0f0a1ef9",
   "metadata": {},
   "outputs": [
    {
     "name": "stdout",
     "output_type": "stream",
     "text": [
      "   Years_of_Experience  Salary\n",
      "0                    1   35000\n",
      "1                    2   37000\n",
      "2                    3   42000\n",
      "3                    4   50000\n",
      "4                    5   55000\n",
      "5                    6   61000\n",
      "6                    7   67000\n",
      "7                    8   72000\n",
      "8                    9   78000\n",
      "9                   10   83000\n"
     ]
    }
   ],
   "source": [
    "data = {\n",
    "    \"Years_of_Experience\": [1,2,3,4,5,6,7,8,9,10],\n",
    "    \"Salary\":[35000,37000,42000,50000,55000,61000,67000,72000,78000,83000]\n",
    "\n",
    "}\n",
    "df = pd.DataFrame(data)\n",
    "print(df)"
   ]
  },
  {
   "cell_type": "code",
   "execution_count": 27,
   "id": "6ae50823",
   "metadata": {},
   "outputs": [
    {
     "name": "stdout",
     "output_type": "stream",
     "text": [
      "X_train shape::    Years_of_Experience\n",
      "2                    3\n",
      "9                   10\n",
      "4                    5\n",
      "3                    4\n",
      "6                    7\n",
      "X_test shape:    Years_of_Experience\n",
      "8                    9\n",
      "1                    2\n",
      "5                    6\n",
      "0                    1\n",
      "7                    8\n",
      "y_train shape: 2    42000\n",
      "9    83000\n",
      "4    55000\n",
      "3    50000\n",
      "6    67000\n",
      "Name: Salary, dtype: int64\n",
      "y_test shape: 8    78000\n",
      "1    37000\n",
      "5    61000\n",
      "0    35000\n",
      "7    72000\n",
      "Name: Salary, dtype: int64\n"
     ]
    }
   ],
   "source": [
    "X = df.drop(\"Salary\", axis=1)\n",
    "y= df[\"Salary\"]\n",
    "\n",
    "X_train, X_test, y_train, y_test =train_test_split(X, y, test_size=0.5, random_state= 42)\n",
    "\n",
    "print(\"X_train shape::\",X_train)\n",
    "print(\"X_test shape:\",X_test)\n",
    "print(\"y_train shape:\",y_train)\n",
    "print(\"y_test shape:\",y_test)"
   ]
  },
  {
   "cell_type": "markdown",
   "id": "5a88a2a4",
   "metadata": {},
   "source": [
    "### Underfit"
   ]
  },
  {
   "cell_type": "code",
   "execution_count": 28,
   "id": "22dde9fd",
   "metadata": {},
   "outputs": [
    {
     "name": "stdout",
     "output_type": "stream",
     "text": [
      "Predicted salary: [75000. 49000. 49000. 49000. 75000.]\n",
      "Actual salary: [78000 37000 61000 35000 72000]\n"
     ]
    }
   ],
   "source": [
    "model_depth1 = DecisionTreeRegressor(max_depth=1)\n",
    "model_depth1.fit(X_train,y_train)\n",
    "\n",
    "test_predict = model_depth1.predict(X_test)\n",
    "\n",
    "print(\"Predicted salary:\", test_predict)\n",
    "print(\"Actual salary:\", y_test.values)\n",
    "\n"
   ]
  },
  {
   "cell_type": "markdown",
   "id": "a74d093b",
   "metadata": {},
   "source": [
    "### OverFit"
   ]
  },
  {
   "cell_type": "code",
   "execution_count": 31,
   "id": "1480803a",
   "metadata": {},
   "outputs": [
    {
     "name": "stdout",
     "output_type": "stream",
     "text": [
      "Predicted Salary: [83000. 42000. 55000. 42000. 67000.]\n",
      "Acutual Salary: [78000 37000 61000 35000 72000]\n"
     ]
    }
   ],
   "source": [
    "model_depth2 = DecisionTreeRegressor(max_depth=10)\n",
    "model_depth2.fit(X_train,y_train)\n",
    "\n",
    "y_pred2= model_depth2.predict(X_test)\n",
    "print(\"Predicted Salary:\",y_pred2)\n",
    "print(\"Acutual Salary:\",y_test.values)\n"
   ]
  },
  {
   "cell_type": "markdown",
   "id": "e3629576",
   "metadata": {},
   "source": [
    "### compeare"
   ]
  },
  {
   "cell_type": "code",
   "execution_count": 37,
   "id": "bc0ce206",
   "metadata": {},
   "outputs": [
    {
     "data": {
      "image/png": "[encoded data removed]",
      "text/plain": [
       "<Figure size 640x480 with 1 Axes>"
      ]
     },
     "metadata": {},
     "output_type": "display_data"
    }
   ],
   "source": [
    "depths = list(range(1, 11))\n",
    "train_errors = []\n",
    "test_errors = []\n",
    "\n",
    "for depth in depths:\n",
    "    model = DecisionTreeRegressor(max_depth=depth)\n",
    "    model.fit(X_train, y_train)\n",
    "\n",
    "    train_pred = model.predict(X_train)\n",
    "    test_pred = model.predict(X_test)\n",
    "\n",
    "    train_errors.append(mean_squared_error(y_train, train_pred))\n",
    "    test_errors.append(mean_squared_error(y_test, test_pred))\n",
    "\n",
    "plt.plot(depths, train_errors, label=\"Train error\")\n",
    "plt.plot(depths, test_errors, label=\"Test error\")\n",
    "plt.xlabel(\"Tree depth\")\n",
    "plt.ylabel(\"Mean Squared Error\")\n",
    "plt.title(\"Decision Tree Model Performance\")\n",
    "plt.legend()\n",
    "plt.grid(True)\n",
    "plt.show()"
   ]
  },
  {
   "cell_type": "code",
   "execution_count": 38,
   "id": "07b3937f",
   "metadata": {},
   "outputs": [
    {
     "name": "stdout",
     "output_type": "stream",
     "text": [
      "\n",
      " Best depth: 3\n"
     ]
    }
   ],
   "source": [
    "best_depth = depths[np.argmin(test_errors)]\n",
    "print(\"\\n Best depth:\", best_depth)"
   ]
  },
  {
   "cell_type": "markdown",
   "id": "33eed5c4",
   "metadata": {},
   "source": [
    "#### Q8. What is underfiting\n"
   ]
  },
  {
   "cell_type": "markdown",
   "id": "52edc265",
   "metadata": {},
   "source": []
  }
 ],
 "metadata": {
  "kernelspec": {
   "display_name": "Python 3",
   "language": "python",
   "name": "python3"
  },
  "language_info": {
   "codemirror_mode": {
    "name": "ipython",
    "version": 3
   },
   "file_extension": ".py",
   "mimetype": "text/x-python",
   "name": "python",
   "nbconvert_exporter": "python",
   "pygments_lexer": "ipython3",
   "version": "3.12.4"
  }
 },
 "nbformat": 4,
 "nbformat_minor": 5
}
